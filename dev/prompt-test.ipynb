{
 "cells": [
  {
   "cell_type": "markdown",
   "metadata": {},
   "source": [
    "## Input"
   ]
  },
  {
   "cell_type": "code",
   "execution_count": null,
   "metadata": {},
   "outputs": [],
   "source": [
    "# input sample\n",
    "# first converation\n",
    "{\n",
    "    \"conversion_type\": \"first\",\n",
    "    \"ocr_json\": {\n",
    "            \"ocr_result\": [],\n",
    "            \"img_string\": \"THE ROBERT\",\n",
    "            \"img_structure\": []\n",
    "    },\n",
    "    \"user_input\":{},\n",
    "    \"conversation_history\":[]\n",
    "}\n",
    "\n",
    "# continued converation\n",
    "{\n",
    "    \"conversion_type\": \"continued\",\n",
    "    \"ocr_json\": {},\n",
    "    \"user_input\":{\n",
    "        \"XXXXXXXX\"\n",
    "    },\n",
    "    \"conversation_history\": [\n",
    "        {\"role\": \"system\", \"content\": input_system},  # system prompt\n",
    "        {\"role\": \"user\", \"content\": input_text},\n",
    "        {\"role\": \"user\", \"content\": input_doc} # first input doc that generated from OCR\n",
    "    ]\n",
    "}"
   ]
  },
  {
   "cell_type": "markdown",
   "metadata": {},
   "source": [
    "## Chat with ChatGPT"
   ]
  },
  {
   "cell_type": "code",
   "execution_count": null,
   "metadata": {},
   "outputs": [],
   "source": [
    "from openai import OpenAI\n",
    "from dotenv import load_dotenv\n",
    "import os\n",
    "\n",
    "load_dotenv() # load API key\n",
    "\n",
    "client = OpenAI(\n",
    "  api_key=os.environ.get(\"OPENAI_API_KEY\"),\n",
    ")"
   ]
  },
  {
   "cell_type": "code",
   "execution_count": null,
   "metadata": {},
   "outputs": [],
   "source": [
    "def chat_with_gpt(messages):\n",
    "    completion = client.chat.completions.create(\n",
    "        model=\"gpt-4\",  # or \"gpt-3.5-turbo\"\n",
    "        messages=messages,\n",
    "        temperature=0\n",
    "    )\n",
    "    return completion.choices[0].message.content"
   ]
  },
  {
   "cell_type": "markdown",
   "metadata": {},
   "source": [
    "### The very first conversation with ChatGPT\n",
    "- input: document output from OCR"
   ]
  },
  {
   "cell_type": "markdown",
   "metadata": {},
   "source": [
    "### json input for testing"
   ]
  },
  {
   "cell_type": "code",
   "execution_count": 62,
   "metadata": {},
   "outputs": [],
   "source": [
    "import json\n",
    "\n",
    "# f = open('../sample_data/sample.json')\n",
    "# data = json.load(f)\n",
    "# f.close()\n",
    "# f = open('../sample_data/BudgetRequestSummary.json')\n",
    "f = open('../sample_data/California-Standard-Residential-Lease-Agreement-Sophia.json')\n",
    "# f = open('../sample_data/ID_Card_0.json')\n",
    "# f = open('../sample_data/ss-5_nina_printed.json')\n",
    "data = json.load(f)\n",
    "f.close()\n",
    "\n",
    "data = data[\"pages\"][0]"
   ]
  },
  {
   "cell_type": "code",
   "execution_count": 63,
   "metadata": {},
   "outputs": [
    {
     "data": {
      "text/plain": [
       "\"<document>CALIFORNIA RESIDENTIAL LEASE/RENTAL AGREEMENT\\nLANDLORD  Prime Properties Rental Management\\nTENANT(S) Olivia Johnson\\nNoah Davis\\nPROPERTY ADDRESS:  123 Maple Street\\nSpringfield, IL 62704\\n1. RENTAL AMOUNT: Beginning _08/29 2024 TENANT agrees to pay LANDLORD\\nthe sum of $ 2999.99 per month in advance on the 1 day of each calendar month.\\nSaid rental payment shall be delivered by TENANT to LANDLORD or his designated agent to the\\nfollowing location: 123 Maple Street, Springfield, IL 62704  Rent must be\\nactually received by LANDLORD, or designated agent, in order to be considered in compliance with\\nthe terms of this agreement.\\n2. TERM: The premises are leased on the following lease term: (please check one item only)\\n Month-to-Month\\n(or)\\n Until _08/29 ,20 30\\n3. SECURITY DEPOSITS: TENANT shall deposit with landlord the sum of $ 2999.99 as a\\nsecurity deposit to secure TENANT'S faithful performance of the terms of this lease. The security.\\ndeposit shall not exceed two times the monthly rent. After all the TENANTS have left, leaving the\\npremises vacant, the LANDLORD may use the security deposit for the cleaning of the premises, any\\nunusual wear and tear to the premises or common areas, and any rent or other amounts owed\\npursuant to the lease agreement or pursuant to Civil Code Section 1950.5. TENANT may not use\\nsaid deposit for rent owed during the term of the lease. Within 21 days of the TENANT vacating the\\npremises, LANDLORD shall furnish TENANT a written statement indicating any amounts deducted\\nfrom the security deposit and returning the balance to the TENANT. If TENANT fails to furnish a\\nforwarding address to LANDLORD, then LANDLORD shall send said statement and any security.\\ndeposit refund to the leased premises.\\n4. INITIAL PAYMENT: TENANT shall pay the first month rent of $ 2999.99 and the\\nsecurity deposit in the amount of $ 2999.99 for a total of $ 5,999.98 Said\\npayment shall be made in the form of cash or cashier's check and is all due prior to occupancy.\\n5. OccuPANTS: The premises shall not be occupied by any person other than those designated\\nabove as TENANT with the exception of the following named persons: James Taylor, Isabella Miller.\\ne Page 1 of 7\\n</document>\""
      ]
     },
     "execution_count": 63,
     "metadata": {},
     "output_type": "execute_result"
    }
   ],
   "source": [
    "input_doc = '<document>'+data['img_string']+'</document>'\n",
    "input_doc\n",
    "\n",
    "# list\n",
    "# input_docs = []\n",
    "# for page in data['pages']:\n",
    "#     input_docs.append(\"<doc>\"+page['img_string']+\"</doc>\")\n",
    "\n",
    "# string\n",
    "# input_docs = \"\"\n",
    "# for page in data['pages']:\n",
    "#     input_docs += \"<doc>\"+page['img_string']+\"</doc>\"\n",
    "\n",
    "# input_docs"
   ]
  },
  {
   "cell_type": "markdown",
   "metadata": {},
   "source": [
    "### system config"
   ]
  },
  {
   "cell_type": "code",
   "execution_count": 82,
   "metadata": {},
   "outputs": [],
   "source": [
    "input_system = \"\"\"You are now a strict sensitive information protection officer. You must protect customer privacy and ensure that sensitive information in documents is not leaked. Here are some categories of personal data: Name, Phone Number, ID Number, Social Security Number (SSN), Email Address, Address, Date of Birth, Gender, Nationality, Passport Number, Bank Account Number, Driver's License Number, Occupation, Health Information, Marital Status, Income or Wage. These types of data (including but not limited to) are usually considered sensitive and need to be properly protected to prevent unauthorized access and use.\"\"\"\n",
    "\n",
    "positive_examples = \"\"\"For example, here is a sample document that contains sensitive information:\n",
    "\n",
    "<document>Dear Loan Department Manager, My name is Zhang Xiaoming, currently residing at Guangfu South Road, Xinyi District, Taipei City. I am hereby submitting a loan application to your esteemed bank. The purpose of this letter is to request a loan to support my personal financial needs. I plan to use the loan funds for home renovation to enhance the comfort of my residence. As a loan applicant, I am willing to comply with all the terms and conditions set by your bank. I understand that the loan application may require the submission of additional documentation, and I am ready to cooperate and complete these procedures. Below is a summary of my personal profile and financial status: Personal Profile: I am an IT professional with over five years of experience working at a renowned technology company. I have a good credit record and repayment capability. Income Situation: My primary source of income is my monthly salary, which provides a stable income sufficient to support the repayment plan. Financial Status: My financial status is stable, and I have several years of financial records that can demonstrate my repayment ability. I sincerely hope that your bank will approve my loan application, allowing me to achieve the aforementioned financial goals. I am willing to provide further information or documents at any time to assist in the review of my application. Sincerely, Zhang Xiaoming July 2, 2024</document>\n",
    "\n",
    "You need to list out the sensitive information like this:\n",
    "\"- Name: Zhang Xiaoming\n",
    "- Address: Guangfu South Road, Xinyi District, Taipei City\"\n",
    "No explanation is needed.\n",
    "\"\"\"\n",
    "\n",
    "# positive_examples = \"\"\"For example, here is a sample document that contains sensitive information:\n",
    "\n",
    "# <document>THE ROBERT A.WELCH FOUNDATION\\n2010 Bank of the Southwest Building\\nHouston,Texas 77002\\nBUDGET REQUEST SUMMARY\\nYEAR (AS APPLICABLE\\nMay 11966 May ,19 May I,19 Total\\nthrough through\\nApr.30.19 Apr.30.19\\n1.Personnel $11228.00 $ $11228.00\\n2.Permanent Scientific Equipment. S\\n3.Expendable Scientific Items &Services 840.00 $ $ 840.00\\n4.Other Expense $ 975.00 $ $ 975.00\\n5.TOTAL Exclusive of Overhead $13.043.00 $ $13.043.00\\n6.Overhead 1957.00 $ $ 51957.00\\n7.TOTAL AMOUNT of Proposed Budget .. $15000.00 $15.000.00\\nNames of Principal InvestigatorsJohn E.Kilpat rick\\nInstitution William Marsh Rice University\\nTHE SPACE BELOW IS FOR USE BY THE FOUNDATION\\nGrant Period 19 to 19 Grant No\\nDate\\nApproved Not Approved\\nDirector of Research\\nScientific Advisory Board\\nBoard of Trustees\\nGrantee and Institution Notified\\nRemarks:\\nSource:https://www.industrydocuments.ucsf.edu/docs/zxfk0226\\n</document>\n",
    "\n",
    "# You need to list out the sensitive information like this:\n",
    "# \"- Name: John E.Kilpat rick\"\n",
    "# No explanation is needed.\n",
    "# \"\"\"\n",
    "\n",
    "duplicate_info = \"\"\"If a document contains duplicate sensitive information appearing in multiple different positions, keep all of them without merging.\n",
    "For example, you might see a paragraph in the document that shows: '405 Hilgard Avenue Los' 'Angeles, California, 90095'\n",
    "And another paragraph shows: '405 Hilgard Avenue, Los Angeles, California, 90095' Please keep both.\n",
    "\n",
    "You need to list out the sensitive information like this:\n",
    "\"- Address: 405 Hilgard Avenue, Los Angeles, California, 90095\n",
    "- Address: 405 Hilgard Avenue\n",
    "- Address: Los Angeles, California, 90095\n",
    "\"\n",
    "\"\"\"\n",
    "\n",
    "input_text = \"\"\"Here is a document. Identify the text containing sensitive information and list it with bullet points, like this: \"- Name: Amy, - SSN: 123456789.\" No explanation needed:\"\"\"\n"
   ]
  },
  {
   "cell_type": "code",
   "execution_count": 83,
   "metadata": {},
   "outputs": [],
   "source": [
    "# input_text = \"\"\"\n",
    "# identify the sensitive information:\n",
    "# THE ROBERT A.WELCH FOUNDATION\\n2010 Bank of the Southwest Building\\nHouston,Texas 77002\\nBUDGET REQUEST SUMMARY\\nYEAR (AS APPLICABLE\\nMay 11966 May ,19 May I,19 Total\\nthrough through\\nApr.30.19 Apr.30.19\\n1.Personnel $11228.00 $ $11228.00\\n2.Permanent Scientific Equipment. S\\n3.Expendable Scientific Items &Services 840.00 $ $ 840.00\\n4.Other Expense $ 975.00 $ $ 975.00\\n5.TOTAL Exclusive of Overhead $13.043.00 $ $13.043.00\\n6.Overhead 1957.00 $ $ 51957.00\\n7.TOTAL AMOUNT of Proposed Budget .. $15000.00 $15.000.00\\nNames of Principal InvestigatorsJohn E.Kilpat rick\\nInstitution William Marsh Rice University\\nTHE SPACE BELOW IS FOR USE BY THE FOUNDATION\\nGrant Period 19 to 19 Grant No\\nDate\\nApproved Not Approved\\nDirector of Research\\nScientific Advisory Board\\nBoard of Trustees\\nGrantee and Institution Notified\\nRemarks:\\nSource:https://www.industrydocuments.ucsf.edu/docs/zxfk0226\\n\n",
    "# \"\"\""
   ]
  },
  {
   "cell_type": "code",
   "execution_count": 97,
   "metadata": {},
   "outputs": [],
   "source": [
    "# initialize the conversation history\n",
    "conversation_history = [\n",
    "    {\"role\": \"system\", \"content\": input_system},  # system prompt\n",
    "    {\"role\": \"system\", \"content\": positive_examples},\n",
    "    {\"role\": \"system\", \"content\": duplicate_info},\n",
    "    {\"role\": \"user\", \"content\": input_text},\n",
    "    {\"role\": \"user\", \"content\": input_doc} # first input doc that generated from OCR\n",
    "]"
   ]
  },
  {
   "cell_type": "code",
   "execution_count": 98,
   "metadata": {},
   "outputs": [
    {
     "name": "stdout",
     "output_type": "stream",
     "text": [
      "- Name: Prime Properties Rental Management\n",
      "- Name: Olivia Johnson\n",
      "- Name: Noah Davis\n",
      "- Address: 123 Maple Street, Springfield, IL 62704\n",
      "- Name: James Taylor\n",
      "- Name: Isabella Miller\n"
     ]
    }
   ],
   "source": [
    "response_from_gpt = chat_with_gpt(conversation_history)\n",
    "print(response_from_gpt)"
   ]
  },
  {
   "cell_type": "markdown",
   "metadata": {},
   "source": [
    "### Multi-turn dialogue with ChatGPT"
   ]
  },
  {
   "cell_type": "code",
   "execution_count": 99,
   "metadata": {},
   "outputs": [
    {
     "name": "stdout",
     "output_type": "stream",
     "text": [
      "============================\n",
      "Turn 1:\n",
      "User input: also add two-line format address aditionally\n",
      "- Name: Olivia Johnson\n",
      "- Name: Noah Davis\n",
      "- Address: 123 Maple Street, Springfield, IL 62704\n",
      "- Address: 123 Maple Street\n",
      "- Address: Springfield, IL 62704\n",
      "- Name: James Taylor\n",
      "- Name: Isabella Miller\n",
      "============================\n",
      "Goodbye :)\n"
     ]
    }
   ],
   "source": [
    "# number of turns\n",
    "i = 0\n",
    "\n",
    "# main conversation\n",
    "while True:\n",
    "\n",
    "    # get user input\n",
    "    user_input = input(\"You: \") # TBD with backend\n",
    "    \n",
    "    # check if the user wants to exit\n",
    "    if user_input.lower() in ['exit', 'quit', 'bye', 'ok', 'thanks', 'nice', 'great']: # TBD with backend\n",
    "        print(\"============================\")\n",
    "        print(\"Goodbye :)\")\n",
    "        break\n",
    "    \n",
    "\n",
    "    # customize user input to eventual prompts\n",
    "    # ======================================= #\n",
    "    #             customize here              #\n",
    "    # ======================================= #\n",
    "\n",
    "\n",
    "    # add user input prompts to conversation history\n",
    "    conversation_history.append({\"role\": \"user\", \"content\": user_input})\n",
    "    \n",
    "    # get response from ChatGPT\n",
    "    response_from_gpt = chat_with_gpt(conversation_history)\n",
    "    i += 1\n",
    "    \n",
    "    # add ChatGPT response to conversation history\n",
    "    conversation_history.append({\"role\": \"assistant\", \"content\": response_from_gpt}) # role is assistant\n",
    "    \n",
    "    # print the response\n",
    "    print(\"============================\")\n",
    "    print(f\"Turn {i}:\")\n",
    "    print(\"User input:\", user_input)\n",
    "    print(response_from_gpt) # .split('\\n')"
   ]
  },
  {
   "cell_type": "markdown",
   "metadata": {},
   "source": [
    "## Post processing\n",
    "mapping the value & bounding box"
   ]
  },
  {
   "cell_type": "code",
   "execution_count": 12,
   "metadata": {},
   "outputs": [
    {
     "name": "stdout",
     "output_type": "stream",
     "text": [
      "John E.Kilpat rick\n",
      "[103.0, 756.0, 649.0, 788.0]\n",
      "[452.4, 756.0] [649.0, 788.0]\n",
      "2010 Bank of the Southwest Building, Houston,Texas 77002\n",
      "Principal Investigators\n",
      "[103.0, 756.0, 649.0, 788.0]\n",
      "[201.3, 756.0] [452.4, 788.0]\n",
      "William Marsh Rice University\n",
      "[105.0, 849.0, 542.0, 874.0]\n",
      "[232.9, 849.0] [542.0, 874.0]\n"
     ]
    }
   ],
   "source": [
    "masks = []\n",
    "\n",
    "for line in response_from_gpt.split('\\n'):\n",
    "    words = line.split('- ')[-1].split(': ')[-1]\n",
    "    print(words)\n",
    "\n",
    "    for i in range(len(data['ocr_result'])):\n",
    "        text = data['ocr_result'][i]['text']\n",
    "        start_index = text.find(words)\n",
    "        \n",
    "        if start_index != -1:\n",
    "            if start_index!=0:\n",
    "                print(f\"{start_index=}\")\n",
    "                print(f\"{len(words)=}, {len(text)=}\")\n",
    "                end_index = start_index + len(words)\n",
    "                \n",
    "                # the start and the end proportion of words in text\n",
    "                start_proportion = start_index / len(text)\n",
    "                end_proportion = end_index / len(text)\n",
    "                print(f\"{start_proportion=}, {end_proportion=}\")\n",
    "\n",
    "                # calculate new bounding box based on the proportion\n",
    "                bbox = data['ocr_result'][i]['bbox']\n",
    "                bbox_width = bbox[2] - bbox[0]\n",
    "                new_bbox_left = round(bbox[0] + start_proportion * bbox_width, 1)\n",
    "                new_bbox_right = round(bbox[0] + end_proportion * bbox_width, 1)\n",
    "\n",
    "                print(bbox)\n",
    "                print([new_bbox_left, bbox[1]], [new_bbox_right, bbox[3]])\n",
    "                masks.append({\"top_left\": [new_bbox_left, bbox[1]],\n",
    "                            \"bottom_right\": [new_bbox_right, bbox[3]]})\n"
   ]
  },
  {
   "cell_type": "markdown",
   "metadata": {},
   "source": [
    "1. John E. Kilpatrick\n",
    "{'top_left': [753.02582248324, 429.9212346964], 'bottom_right': [782.7093872214, 652.6092418772]}\n",
    "\n",
    "2. William Marsh Rice University\n",
    "{'top_left': [844.196771322, 202.9915511885], 'bottom_right': [876.0005906843733, 544.4464955322]}\n",
    "\n",
    "1. John E. Kilpatrick\n",
    "{'top_left': [0.4471649777216389, 0.3609750081414287], 'bottom_right': [0.46479179763743733, 0.5479506648842744]}\n",
    "\n",
    "2. William Marsh Rice University\n",
    "{'top_left': [0.5013044960344484, 0.17043791031776695], 'bottom_right': [0.5201903745156611, 0.45713391732346353]}"
   ]
  },
  {
   "cell_type": "code",
   "execution_count": 18,
   "metadata": {},
   "outputs": [
    {
     "name": "stdout",
     "output_type": "stream",
     "text": [
      "[152.0, 1010.0, 949.0, 1052.0]\n",
      "{'top_left': [643.4833333333333, 1052.0], 'bottom_right': [882.5833333333333, 1010.0]}\n"
     ]
    }
   ],
   "source": [
    "# text = 'Name(s) of Principal Investigators) -John E.Kilpat rick*asdf'\n",
    "# # words = 'John E. Kilpatrick'\n",
    "# words = 'John E.Kilpat rick'\n",
    "\n",
    "# bbox = [\n",
    "#                 152.0, # 0\n",
    "#                 1010.0, # 1\n",
    "#                 949.0, # 2\n",
    "#                 1052.0 # 3\n",
    "#             ]\n",
    "\n",
    "# text.find(words)\n",
    "\n",
    "# start_index = text.find(words)\n",
    "# if start_index != -1:\n",
    "#     end_index = start_index + len(words)\n",
    "    \n",
    "#     # 計算 words 在 text 中的起始和結束比例\n",
    "#     start_proportion = start_index / len(text)\n",
    "#     end_proportion = end_index / len(text)\n",
    "\n",
    "#     # 根據比例計算 bounding box 的新位置\n",
    "#     # bbox = data['ocr_result'][i]['bbox']\n",
    "#     bbox_width = bbox[2] - bbox[0]\n",
    "#     new_bbox_left = round(bbox[0] + start_proportion * bbox_width, 1)\n",
    "#     new_bbox_right = round(bbox[0] + end_proportion * bbox_width, 1)\n",
    "\n",
    "#     print(bbox)\n",
    "#     masks.append({\"top_left\": [new_bbox_left, bbox[3]],\n",
    "#                     \"bottom_right\": [new_bbox_right, bbox[1]]})\n",
    "\n",
    "\n",
    "#     print({\"top_left\": [new_bbox_left, bbox[3]],\n",
    "#                     \"bottom_right\": [new_bbox_right, bbox[1]]})"
   ]
  },
  {
   "cell_type": "markdown",
   "metadata": {},
   "source": [
    "## Output\n",
    "- `conversion_type`: [\"first\", \"continued\"]\n",
    "- output mask bbox"
   ]
  },
  {
   "cell_type": "code",
   "execution_count": 10,
   "metadata": {},
   "outputs": [],
   "source": [
    "# output sample\n",
    "response = [\n",
    "    {\n",
    "        \"conversion_type\": \"first\", # or \"continued\",\n",
    "        \"conversation_history\": {\n",
    "            {\"role\": \"system\", \"content\": input_system},  # system prompt\n",
    "            {\"role\": \"user\", \"content\": input_text},\n",
    "            {\"role\": \"user\", \"content\": input_doc}, # first input doc that generated from OCR\n",
    "            {\"role\": \"user\", \"content\": user_input}, # first user input\n",
    "            {\"role\": \"assistant\", \"content\": response_from_gpt}, # gpt output\n",
    "            {\"role\": \"user\", \"content\": user_input}, # second user input\n",
    "            {\"role\": \"assistant\", \"content\": response_from_gpt},\n",
    "            {\"role\": \"user\", \"content\": user_input}, # third user input\n",
    "            {\"role\": \"assistant\", \"content\": response_from_gpt}\n",
    "        },\n",
    "        \"masks\": [\n",
    "                {\"top_left\": [152.0, 1010.0], \"bottom_right\": [1052.0, 1052.0]},\n",
    "                {\"top_left\": [147.0, 1137.0], \"bottom_right\": [1187.0, 1187.0]}\n",
    "            ]\n",
    "    }\n",
    "]"
   ]
  }
 ],
 "metadata": {
  "kernelspec": {
   "display_name": "Python 3.8.19 ('capstone')",
   "language": "python",
   "name": "python3"
  },
  "language_info": {
   "codemirror_mode": {
    "name": "ipython",
    "version": 3
   },
   "file_extension": ".py",
   "mimetype": "text/x-python",
   "name": "python",
   "nbconvert_exporter": "python",
   "pygments_lexer": "ipython3",
   "version": "3.8.19"
  },
  "orig_nbformat": 4,
  "vscode": {
   "interpreter": {
    "hash": "b47c837c46631dbf0808a2d963b50661f48a03ae6736ef73c7d5bc820170b1b6"
   }
  }
 },
 "nbformat": 4,
 "nbformat_minor": 2
}
