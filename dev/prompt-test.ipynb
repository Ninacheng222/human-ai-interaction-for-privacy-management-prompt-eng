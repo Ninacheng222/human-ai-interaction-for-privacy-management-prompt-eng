{
 "cells": [
  {
   "cell_type": "markdown",
   "metadata": {},
   "source": [
    "## Input"
   ]
  },
  {
   "cell_type": "code",
   "execution_count": null,
   "metadata": {},
   "outputs": [],
   "source": [
    "# # input sample\n",
    "# # first converation\n",
    "# {\n",
    "#     \"conversion_type\": \"first\",\n",
    "#     \"ocr_json\": {\n",
    "#             \"ocr_result\": [],\n",
    "#             \"img_string\": \"THE ROBERT\",\n",
    "#             \"img_structure\": []\n",
    "#     },\n",
    "#     \"user_input\":{},\n",
    "#     \"conversation_history\":[]\n",
    "# }\n",
    "\n",
    "# # continued converation\n",
    "# {\n",
    "#     \"conversion_type\": \"continued\",\n",
    "#     \"ocr_json\": {},\n",
    "#     \"user_input\":{\n",
    "#         \"XXXXXXXX\"\n",
    "#     },\n",
    "#     \"conversation_history\": [\n",
    "#         {\"role\": \"system\", \"content\": input_system},  # system prompt\n",
    "#         {\"role\": \"user\", \"content\": input_text},\n",
    "#         {\"role\": \"user\", \"content\": input_doc} # first input doc that generated from OCR\n",
    "#     ]\n",
    "# }"
   ]
  },
  {
   "cell_type": "markdown",
   "metadata": {},
   "source": [
    "## Chat with ChatGPT"
   ]
  },
  {
   "cell_type": "code",
   "execution_count": 6,
   "metadata": {},
   "outputs": [],
   "source": [
    "from openai import OpenAI\n",
    "from dotenv import load_dotenv\n",
    "import os\n",
    "\n",
    "load_dotenv() # load API key\n",
    "\n",
    "client = OpenAI(\n",
    "  api_key=os.environ.get(\"OPENAI_API_KEY\"),\n",
    ")"
   ]
  },
  {
   "cell_type": "markdown",
   "metadata": {},
   "source": [
    "### json input: document output from OCR"
   ]
  },
  {
   "cell_type": "code",
   "execution_count": 8,
   "metadata": {},
   "outputs": [],
   "source": [
    "import json\n",
    "\n",
    "# f = open('../sample_data/sample.json')\n",
    "# data = json.load(f)\n",
    "# f.close()\n",
    "# f = open('../sample_data/BudgetRequestSummary.json')\n",
    "# f = open('../sample_data/California-Standard-Residential-Lease-Agreement-Sophia.json')\n",
    "# f = open('../sample_data/ID_Card_0.json')\n",
    "f = open('../sample_data/ss-5_nina_printed.json')\n",
    "data = json.load(f)\n",
    "f.close()\n",
    "\n",
    "data = data[\"pages\"][0]"
   ]
  },
  {
   "cell_type": "code",
   "execution_count": 9,
   "metadata": {},
   "outputs": [
    {
     "data": {
      "text/plain": [
       "'<document>Page 5 of 5 Form SS-5 10-2021)UF\\nUse (11-2019 UF Until Stock ls Exhausted\\nSOCIAL SECURITY ADMINISTRATION OMB No.0960-0066\\nApplication for a Social Security Card\\nNAME First Full Middle Name Last\\nTO BE SHOWN ON CARD Amy Cheng\\nFULL NAME AT BIRTH First Full Middle Name Last\\nIF OTHER THAN ABOVE\\nOTHER NAMES USED\\n2 Social Security number previously assigned to the person\\nlisted in item 1\\n3 7 3\\nTaiwan Office\\nDATE\\n3 BIRTH 4 OF 06/18/2000 Use Only\\n(Do Not Abbreviate) City State or Foreign Country FCI BIRTH  MM/DD/YYYY\\n5 CITIZENSHIP\\nLegal Alien\\n Allowed To\\nOther (See\\n u.s. Citizen Instructions On\\n(Check One) Work Page\\'3) Page 3)\\nETHNICITY RACE Native HawaiianAmerican Indian  Other Pacific\\n6 Are You Hispanic or Latino? Select One or More Alaska Native\\nIslander\\n(Your Response\\nBlack/African\\n(Your Response is Voluntary) White\\n Yes Asian [ No is Voluntary) American\\n8 SEX  Male  Female\\nA. PARENT/ MOTHER\\'S First\\nFull Middle Name Last\\n9\\nNAME AT HER BIRTH Sally n1\\nB. PARENT/ MOTHER\\'S SOCIAL SECURITY ] Unknown\\nNUMBER (See instructions for 9B on Page 3)\\nA. PARENT/ FATHER\\'S First Full Middle Name Last\\nNAME Justin Cheng\\n10\\nB. PARENT/ FATHER\\'S SOCIAL SECURITY XUnknown\\nNUMBER (See instructions for 10B on Page 3)\\nHas the person listed in item 1 or anyone acting on his/her behalf ever filed for or received a Social Security number card.\\nbefore?\\nYes (If \"yes\" answer questions 12-13) ] No  Don\\'t Know (lf \"don\\'t know,\" skip to question 14.)\\nName shown on the most recent Social First Full Middle Name  Last\\nSecurity card issued for the person\\nlisted in item 1\\nEnter any different date of birth if used on an.\\nearlier application for a card MM/DD/YYYY\\n14 TODAY\\'S 310 1235039\\nDATE MM/DD/YYYY Area Code Number\\nStreet Address, Apt. No., PO Box, Rural Route No.\\nMAILING ADDRESS  10960 ashton ave, Apt 210\\n16\\nCity State/Foreign Country ZIP Code\\n(Do Not Abbreviate) Los Angeles California 90024\\n17 YOUR SIGNATURE YOUR RELATIONSHIP TO THE PERSON IN ITEM 1 IS:\\n18][] Self  Natural Or Legal Other\\nAdoptive Parent Guardian Specify\\nDO NOT WRITE BELOW THIS LINE (FOR SSA USE ONLY)\\nNPN DOC NTI CAN ITV\\nPBC EVI EVA EVC PRA NWR DNR UNIT\\nEVIDENCE SUBMITTED SIGNATURE AND TITLE OF EMPLOYEE(S)\\nREVIEWING EVIDENCE AND/OR CONDUCTING\\nINTERVIEW\\nDATE\\nDCL DATE\\n</document>'"
      ]
     },
     "execution_count": 9,
     "metadata": {},
     "output_type": "execute_result"
    }
   ],
   "source": [
    "input_doc = '<document>'+data['img_string']+'</document>'\n",
    "input_doc\n",
    "\n",
    "# list\n",
    "# input_docs = []\n",
    "# for page in data['pages']:\n",
    "#     input_docs.append(\"<doc>\"+page['img_string']+\"</doc>\")\n",
    "\n",
    "# string\n",
    "# input_docs = \"\"\n",
    "# for page in data['pages']:\n",
    "#     input_docs += \"<doc>\"+page['img_string']+\"</doc>\"\n",
    "\n",
    "# input_docs"
   ]
  },
  {
   "cell_type": "markdown",
   "metadata": {},
   "source": [
    "### Generate sensitive doc"
   ]
  },
  {
   "cell_type": "code",
   "execution_count": 68,
   "metadata": {},
   "outputs": [
    {
     "name": "stdout",
     "output_type": "stream",
     "text": [
      "Dear Mr. John Doe,\n",
      "\n",
      "This letter serves as a formal notification of your acceptance into the Master's program at Prestigious University. We are pleased to inform you that your application, under the identification number 123-456-789, has been thoroughly reviewed and approved by our admissions committee.\n",
      "\n",
      "Your permanent address listed as 1234 Elm Street, Springfield, IL, 62701, has been recorded in our system. Please ensure to update us if there are any changes to your contact information.\n",
      "\n",
      "As part of your acceptance, you are eligible for the university's scholarship program. Your financial information, including your bank account number 9876543210 at Springfield National Bank, will be used for the disbursement of any financial aid you may receive.\n",
      "\n",
      "Please note that your social security number, 123-45-6789, will be kept confidential and used solely for identification purposes within the university's administrative system.\n",
      "\n",
      "We look forward to welcoming you to Prestigious University and are confident that you will make significant contributions to our academic community.\n",
      "\n",
      "Sincerely,\n",
      "\n",
      "Jane Smith\n",
      "Director of Admissions\n",
      "Prestigious University\n",
      "\n"
     ]
    }
   ],
   "source": [
    "def gpt_gen_doc(messages):\n",
    "    completion = client.chat.completions.create(\n",
    "        model=\"gpt-4\",  # or \"gpt-3.5-turbo\"\n",
    "        messages=messages,\n",
    "    )\n",
    "    return completion.choices[0].message.content\n",
    "\n",
    "\n",
    "conversation_history = [\n",
    "    {\"role\": \"system\", \"content\": \"You are a high-quality document generator. Your task is to create a professional document that includes personal sensitive information.\"},  # system prompt\n",
    "    {\"role\": \"system\", \"content\": \"The document may be a contract, such as an employment agreement, housing lease, bank agreement, or application form. Ensure the content is realistic, accurate, and includes necessary sensitive details such as names, addresses, financial information, or identification numbers, while maintaining the document's formal tone and structure.\"},\n",
    "    {\"role\": \"user\", \"content\": \"Generate a pure string of text with at least 300 characters. The text should resemble a formal document and include randomly fabricated sensitive information. Ensure that the sensitive details are realistic and integrated naturally into the content. making the document read like a typical article or story, rather than a list or table. no employment agreement. no LEASE AGREEMENT. no BANK AGREEMENT\"}\n",
    "]\n",
    "\n",
    "dummy_doc_from_gpt = chat_with_gpt(conversation_history)\n",
    "print(dummy_doc_from_gpt)\n"
   ]
  },
  {
   "cell_type": "code",
   "execution_count": 69,
   "metadata": {},
   "outputs": [
    {
     "name": "stdout",
     "output_type": "stream",
     "text": [
      "Text file saved at: ../dummy_docs/dummy_doc_from_gpt_6.txt\n"
     ]
    }
   ],
   "source": [
    "i = 6\n",
    "file_path = f'../dummy_docs/dummy_doc_from_gpt_{i}.txt'\n",
    "with open(file_path, 'w') as file:\n",
    "    file.write(dummy_doc_from_gpt)\n",
    "\n",
    "print(f\"Text file saved at: {file_path}\")"
   ]
  },
  {
   "cell_type": "code",
   "execution_count": 70,
   "metadata": {},
   "outputs": [],
   "source": [
    "input_doc = dummy_doc_from_gpt"
   ]
  },
  {
   "cell_type": "markdown",
   "metadata": {},
   "source": [
    "### system config"
   ]
  },
  {
   "cell_type": "code",
   "execution_count": 71,
   "metadata": {},
   "outputs": [],
   "source": [
    "input_system = \"\"\"You are now a strict sensitive information protection officer. You must protect customer privacy and ensure that sensitive information in documents is not leaked. Here are some categories of personal data: Name, Phone Number, ID Number, Social Security Number (SSN), Email Address, Address, Date of Birth, Gender, Nationality, Passport Number, Bank Account Number, Driver's License Number, Occupation, Health Information, Marital Status, Income or Wage. These types of data (including but not limited to) are usually considered sensitive and need to be properly protected to prevent unauthorized access and use.\"\"\"\n",
    "\n",
    "positive_examples = \"\"\"For example, here is a sample document that contains sensitive information:\n",
    "\n",
    "<document>Dear Loan Department Manager, My name is Zhang Xiaoming, currently residing at Guangfu South Road, Xinyi District, Taipei City. I am hereby submitting a loan application to your esteemed bank. The purpose of this letter is to request a loan to support my personal financial needs. I plan to use the loan funds for home renovation to enhance the comfort of my residence. As a loan applicant, I am willing to comply with all the terms and conditions set by your bank. I understand that the loan application may require the submission of additional documentation, and I am ready to cooperate and complete these procedures. Below is a summary of my personal profile and financial status: Personal Profile: I am an IT professional with over five years of experience working at a renowned technology company. I have a good credit record and repayment capability. Income Situation: My primary source of income is my monthly salary, which provides a stable income sufficient to support the repayment plan. Financial Status: My financial status is stable, and I have several years of financial records that can demonstrate my repayment ability. I sincerely hope that your bank will approve my loan application, allowing me to achieve the aforementioned financial goals. I am willing to provide further information or documents at any time to assist in the review of my application. Sincerely, Zhang Xiaoming July 2, 2024</document>\n",
    "\n",
    "You need to list out the sensitive information like this:\n",
    "\"- Name: Zhang Xiaoming\n",
    "- Address: Guangfu South Road, Xinyi District, Taipei City\"\n",
    "No explanation is needed.\n",
    "\"\"\"\n",
    "\n",
    "# positive_examples = \"\"\"For example, here is a sample document that contains sensitive information:\n",
    "\n",
    "# <document>THE ROBERT A.WELCH FOUNDATION\\n2010 Bank of the Southwest Building\\nHouston,Texas 77002\\nBUDGET REQUEST SUMMARY\\nYEAR (AS APPLICABLE\\nMay 11966 May ,19 May I,19 Total\\nthrough through\\nApr.30.19 Apr.30.19\\n1.Personnel $11228.00 $ $11228.00\\n2.Permanent Scientific Equipment. S\\n3.Expendable Scientific Items &Services 840.00 $ $ 840.00\\n4.Other Expense $ 975.00 $ $ 975.00\\n5.TOTAL Exclusive of Overhead $13.043.00 $ $13.043.00\\n6.Overhead 1957.00 $ $ 51957.00\\n7.TOTAL AMOUNT of Proposed Budget .. $15000.00 $15.000.00\\nNames of Principal InvestigatorsJohn E.Kilpat rick\\nInstitution William Marsh Rice University\\nTHE SPACE BELOW IS FOR USE BY THE FOUNDATION\\nGrant Period 19 to 19 Grant No\\nDate\\nApproved Not Approved\\nDirector of Research\\nScientific Advisory Board\\nBoard of Trustees\\nGrantee and Institution Notified\\nRemarks:\\nSource:https://www.industrydocuments.ucsf.edu/docs/zxfk0226\\n</document>\n",
    "\n",
    "# You need to list out the sensitive information like this:\n",
    "# \"- Name: John E.Kilpat rick\"\n",
    "# No explanation is needed.\n",
    "# \"\"\"\n",
    "\n",
    "duplicate_info = \"\"\"If a document contains duplicate sensitive information appearing in multiple different positions, keep all of them without merging.\n",
    "For example, you might see a paragraph in the document that shows: '405 Hilgard Avenue Los' 'Angeles, California, 90095'\n",
    "And another paragraph shows: '405 Hilgard Avenue, Los Angeles, California, 90095' Please keep both.\n",
    "\n",
    "You need to list out the sensitive information like this:\n",
    "\"- Address: 405 Hilgard Avenue, Los Angeles, California, 90095\n",
    "- Address: 405 Hilgard Avenue\n",
    "- Address: Los Angeles, California, 90095\n",
    "\"\n",
    "\"\"\"\n",
    "\n",
    "input_text = \"\"\"Here is a document. Identify the text containing sensitive information and list it with bullet points, like this: \"- Name: Amy, - SSN: 123456789.\" No explanation needed:\"\"\"\n"
   ]
  },
  {
   "cell_type": "code",
   "execution_count": 72,
   "metadata": {},
   "outputs": [
    {
     "name": "stdout",
     "output_type": "stream",
     "text": [
      "- Name: Mr. John Doe\n",
      "- ID Number: 123-456-789\n",
      "- Address: 1234 Elm Street, Springfield, IL, 62701\n",
      "- Bank Account Number: 9876543210\n",
      "- Social Security Number: 123-45-6789\n",
      "- Name: Jane Smith\n"
     ]
    }
   ],
   "source": [
    "def chat_with_gpt(messages):\n",
    "    completion = client.chat.completions.create(\n",
    "        model=\"gpt-4\",  # or \"gpt-3.5-turbo\"\n",
    "        messages=messages,\n",
    "        temperature=0\n",
    "    )\n",
    "    return completion.choices[0].message.content\n",
    "\n",
    "# initialize the conversation history\n",
    "conversation_history = [\n",
    "    {\"role\": \"system\", \"content\": input_system},  # system prompt\n",
    "    {\"role\": \"system\", \"content\": positive_examples},\n",
    "    {\"role\": \"system\", \"content\": duplicate_info},\n",
    "    {\"role\": \"user\", \"content\": input_text},\n",
    "    {\"role\": \"user\", \"content\": input_doc} # first input doc that generated from OCR\n",
    "]\n",
    "\n",
    "response_from_gpt = chat_with_gpt(conversation_history)\n",
    "print(response_from_gpt)"
   ]
  },
  {
   "cell_type": "markdown",
   "metadata": {},
   "source": [
    "### Multi-turn dialogue with ChatGPT"
   ]
  },
  {
   "cell_type": "code",
   "execution_count": 99,
   "metadata": {},
   "outputs": [
    {
     "name": "stdout",
     "output_type": "stream",
     "text": [
      "============================\n",
      "Turn 1:\n",
      "User input: also add two-line format address aditionally\n",
      "- Name: Olivia Johnson\n",
      "- Name: Noah Davis\n",
      "- Address: 123 Maple Street, Springfield, IL 62704\n",
      "- Address: 123 Maple Street\n",
      "- Address: Springfield, IL 62704\n",
      "- Name: James Taylor\n",
      "- Name: Isabella Miller\n",
      "============================\n",
      "Goodbye :)\n"
     ]
    }
   ],
   "source": [
    "# number of turns\n",
    "i = 0\n",
    "\n",
    "# main conversation\n",
    "while True:\n",
    "\n",
    "    # get user input\n",
    "    user_input = input(\"You: \") # TBD with backend\n",
    "    \n",
    "    # check if the user wants to exit\n",
    "    if user_input.lower() in ['exit', 'quit', 'bye', 'ok', 'thanks', 'nice', 'great']: # TBD with backend\n",
    "        print(\"============================\")\n",
    "        print(\"Goodbye :)\")\n",
    "        break\n",
    "    \n",
    "\n",
    "    # customize user input to eventual prompts\n",
    "    # ======================================= #\n",
    "    #             customize here              #\n",
    "    # ======================================= #\n",
    "\n",
    "\n",
    "    # add user input prompts to conversation history\n",
    "    conversation_history.append({\"role\": \"user\", \"content\": user_input})\n",
    "    \n",
    "    # get response from ChatGPT\n",
    "    response_from_gpt = chat_with_gpt(conversation_history)\n",
    "    i += 1\n",
    "    \n",
    "    # add ChatGPT response to conversation history\n",
    "    conversation_history.append({\"role\": \"assistant\", \"content\": response_from_gpt}) # role is assistant\n",
    "    \n",
    "    # print the response\n",
    "    print(\"============================\")\n",
    "    print(f\"Turn {i}:\")\n",
    "    print(\"User input:\", user_input)\n",
    "    print(response_from_gpt) # .split('\\n')"
   ]
  },
  {
   "cell_type": "markdown",
   "metadata": {},
   "source": [
    "## Post processing\n",
    "mapping the value & bounding box"
   ]
  },
  {
   "cell_type": "code",
   "execution_count": 12,
   "metadata": {},
   "outputs": [
    {
     "name": "stdout",
     "output_type": "stream",
     "text": [
      "John E.Kilpat rick\n",
      "[103.0, 756.0, 649.0, 788.0]\n",
      "[452.4, 756.0] [649.0, 788.0]\n",
      "2010 Bank of the Southwest Building, Houston,Texas 77002\n",
      "Principal Investigators\n",
      "[103.0, 756.0, 649.0, 788.0]\n",
      "[201.3, 756.0] [452.4, 788.0]\n",
      "William Marsh Rice University\n",
      "[105.0, 849.0, 542.0, 874.0]\n",
      "[232.9, 849.0] [542.0, 874.0]\n"
     ]
    }
   ],
   "source": [
    "masks = []\n",
    "\n",
    "for line in response_from_gpt.split('\\n'):\n",
    "    words = line.split('- ')[-1].split(': ')[-1]\n",
    "    print(words)\n",
    "\n",
    "    for i in range(len(data['ocr_result'])):\n",
    "        text = data['ocr_result'][i]['text']\n",
    "        start_index = text.find(words)\n",
    "        \n",
    "        if start_index != -1:\n",
    "            if start_index!=0:\n",
    "                print(f\"{start_index=}\")\n",
    "                print(f\"{len(words)=}, {len(text)=}\")\n",
    "                end_index = start_index + len(words)\n",
    "                \n",
    "                # the start and the end proportion of words in text\n",
    "                start_proportion = start_index / len(text)\n",
    "                end_proportion = end_index / len(text)\n",
    "                print(f\"{start_proportion=}, {end_proportion=}\")\n",
    "\n",
    "                # calculate new bounding box based on the proportion\n",
    "                bbox = data['ocr_result'][i]['bbox']\n",
    "                bbox_width = bbox[2] - bbox[0]\n",
    "                new_bbox_left = round(bbox[0] + start_proportion * bbox_width, 1)\n",
    "                new_bbox_right = round(bbox[0] + end_proportion * bbox_width, 1)\n",
    "\n",
    "                print(bbox)\n",
    "                print([new_bbox_left, bbox[1]], [new_bbox_right, bbox[3]])\n",
    "                masks.append({\"top_left\": [new_bbox_left, bbox[1]],\n",
    "                            \"bottom_right\": [new_bbox_right, bbox[3]]})\n"
   ]
  },
  {
   "cell_type": "markdown",
   "metadata": {},
   "source": [
    "## Output\n",
    "- `conversion_type`: [\"first\", \"continued\"]\n",
    "- output mask bbox"
   ]
  },
  {
   "cell_type": "code",
   "execution_count": 10,
   "metadata": {},
   "outputs": [],
   "source": [
    "# # output sample\n",
    "# response = [\n",
    "#     {\n",
    "#         \"conversion_type\": \"first\", # or \"continued\",\n",
    "#         \"conversation_history\": {\n",
    "#             {\"role\": \"system\", \"content\": input_system},  # system prompt\n",
    "#             {\"role\": \"user\", \"content\": input_text},\n",
    "#             {\"role\": \"user\", \"content\": input_doc}, # first input doc that generated from OCR\n",
    "#             {\"role\": \"user\", \"content\": user_input}, # first user input\n",
    "#             {\"role\": \"assistant\", \"content\": response_from_gpt}, # gpt output\n",
    "#             {\"role\": \"user\", \"content\": user_input}, # second user input\n",
    "#             {\"role\": \"assistant\", \"content\": response_from_gpt},\n",
    "#             {\"role\": \"user\", \"content\": user_input}, # third user input\n",
    "#             {\"role\": \"assistant\", \"content\": response_from_gpt}\n",
    "#         },\n",
    "#         \"masks\": [\n",
    "#                 {\"top_left\": [152.0, 1010.0], \"bottom_right\": [1052.0, 1052.0]},\n",
    "#                 {\"top_left\": [147.0, 1137.0], \"bottom_right\": [1187.0, 1187.0]}\n",
    "#             ]\n",
    "#     }\n",
    "# ]"
   ]
  }
 ],
 "metadata": {
  "kernelspec": {
   "display_name": "Python 3.8.19 ('capstone')",
   "language": "python",
   "name": "python3"
  },
  "language_info": {
   "codemirror_mode": {
    "name": "ipython",
    "version": 3
   },
   "file_extension": ".py",
   "mimetype": "text/x-python",
   "name": "python",
   "nbconvert_exporter": "python",
   "pygments_lexer": "ipython3",
   "version": "3.8.19"
  },
  "orig_nbformat": 4,
  "vscode": {
   "interpreter": {
    "hash": "b47c837c46631dbf0808a2d963b50661f48a03ae6736ef73c7d5bc820170b1b6"
   }
  }
 },
 "nbformat": 4,
 "nbformat_minor": 2
}
