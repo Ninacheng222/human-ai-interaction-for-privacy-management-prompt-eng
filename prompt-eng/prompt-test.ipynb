{
 "cells": [
  {
   "cell_type": "markdown",
   "metadata": {},
   "source": [
    "## Get input from OCR"
   ]
  },
  {
   "cell_type": "code",
   "execution_count": 1,
   "metadata": {},
   "outputs": [],
   "source": [
    "import json\n",
    "\n",
    "f = open('sample.json')\n",
    "data = json.load(f)\n",
    "f.close()"
   ]
  },
  {
   "cell_type": "code",
   "execution_count": 2,
   "metadata": {},
   "outputs": [
    {
     "data": {
      "text/plain": [
       "'THE ROBERT A.WELCH FOUNDATION\\n2010 Bank of the Southwest Building\\nHoustonTexas77002\\nBUDGET REQUEST SUMMARY\\nTEAR (AS APPLICASLE)\\nMay 1,1966 May 19 May I,19 Total\\nthrough through\\nA.30.19 Apr3019\\n1.Personnel $11228.00 $ $11.228.00\\n2.Permanent Scientific Equipment 0 $\\n3.Expendable Scientific Items & Services 840.00 840.00\\n4.Other Expense  975.00. $ 975.00\\n5.TOTAL. Exclusive of Overhead 13.043.00 $13.043.00\\n6.Overhead 1.957.00 195.7.00\\n7.TOTALAMOUNT of Proposed Budget  $15,000.00 $15.000.00.\\nName(s) of Principal Investigators) -John E.Kilpat rick\\nInstiution Willian Marsh Rice University\\nTHE SPACE BELOW IS FOR USE BY THE FOUNDATION\\nGrant Period 19 to 19 Grant No\\nDate\\nApproved Not Approved\\nDirector of Kesearch\\nScientific Advisory Board\\nBoard of Trustees\\nGrantee and Institution Notified\\nRemarks:\\nSource:https://www.industrydocuments.ucsf.edu/docs/zxfk0226\\n'"
      ]
     },
     "execution_count": 2,
     "metadata": {},
     "output_type": "execute_result"
    }
   ],
   "source": [
    "input_doc = data['img_string']\n",
    "input_doc"
   ]
  },
  {
   "cell_type": "markdown",
   "metadata": {},
   "source": [
    "## Chat with ChatGPT"
   ]
  },
  {
   "cell_type": "code",
   "execution_count": 3,
   "metadata": {},
   "outputs": [],
   "source": [
    "from openai import OpenAI\n",
    "from dotenv import load_dotenv\n",
    "import os\n",
    "\n",
    "load_dotenv() # load API key\n",
    "\n",
    "client = OpenAI(\n",
    "  api_key=os.environ.get(\"OPENAI_API_KEY\"),\n",
    ")"
   ]
  },
  {
   "cell_type": "code",
   "execution_count": 4,
   "metadata": {},
   "outputs": [],
   "source": [
    "def chat_with_gpt(messages):\n",
    "    completion = client.chat.completions.create(\n",
    "        model=\"gpt-4\",  # or \"gpt-3.5-turbo\"\n",
    "        messages=messages\n",
    "    )\n",
    "    return completion.choices[0].message.content"
   ]
  },
  {
   "cell_type": "markdown",
   "metadata": {},
   "source": [
    "### The very first conversation with ChatGPT\n",
    "- input: document output from OCR"
   ]
  },
  {
   "cell_type": "code",
   "execution_count": 5,
   "metadata": {},
   "outputs": [],
   "source": [
    "# input_system = \"你現在是一個很嚴謹的敏感訊息保護專員，必須保護客戶隱私、確保不外洩文件資料中的敏感訊息。以下是一些個人資料（個資）的類別： 姓名 (Name) 電話號碼 (Phone Number) 身份證號碼 (ID Number) 社會安全號碼 (Social Security Number, SSN) 電子郵件地址 (Email Address) 住址 (Address) 出生日期 (Date of Birth) 性別 (Gender) 國籍 (Nationality) 護照號碼 (Passport Number) 銀行賬號 (Bank Account Number) 駕駛執照號碼 (Driver's License Number) 職業 (Occupation) 健康狀況信息 (Health Information) 婚姻狀況 (Marital Status) 有實際揭露數字之薪資收入(Income or Wage) 等等，以上這些資料（包含但不限於）通常被認為是敏感信息，需要妥善保護以防止未經授權的訪問和使用。\"\n",
    "\n",
    "# input_text = \"\"\"下方為一筆文件資料，請你明確指出資料中含有敏感信息之文字內容，並以 bullet points 方式列出，不需要其他解釋\"\"\"\n",
    "\n",
    "# input_doc = \"\"\"尊敬的貸款部門主管：我是張小明，現居住於台北市信義區光復南路。特此向貴銀行提交貸款申請。我寫此信是希望能夠獲得貴行的貸款，以便支持我的個人經濟需求。我計劃使用貸款款項來進行房屋裝修，以提升住宅的居住舒適度。 作為貸款申請人，我願意遵守所有貴行的貸款條款和條件。我了解貸款申請可能需要提交進一步的文件證明，並願意配合完成這些程序。以下是我個人簡介和財務狀況的概要： 個人簡介：我是一名IT專業人士，在一家知名科技公司已有超過五年的工作經驗。我有良好的信用紀錄和還款能力。 收入情況：我的主要收入來源是月薪，每月我有穩定的收入來源，足以支持還款計劃。 財務狀況：我的財務狀況穩健，已有多年的財務記錄可以證明我的還款能力。 在此，我誠摯地希望貴行能夠批准我的貸款申請，以便我可以實現上述的經濟目標。我願意隨時提供進一步的信息或文件，以便貴行審核我的申請。 謹此致敬， 張小明 2024年7月2日\"\"\""
   ]
  },
  {
   "cell_type": "code",
   "execution_count": 29,
   "metadata": {},
   "outputs": [],
   "source": [
    "input_system = \"\"\"You are now a strict sensitive information protection officer. You must protect customer privacy and ensure that sensitive information in documents is not leaked. Here are some categories of personal data: Name, Phone Number, ID Number, Social Security Number (SSN), Email Address, Address, Date of Birth, Gender, Nationality, Passport Number, Bank Account Number, Driver's License Number, Occupation, Health Information, Marital Status, Income or Wage. These types of data (including but not limited to) are usually considered sensitive and need to be properly protected to prevent unauthorized access and use.\"\"\"\n",
    "input_text = \"\"\"Here is a document. Identify the text containing sensitive information and list it with bullet points, like this: \"- Name: Amy, - SSN: 123456789.\" No explanation needed:\"\"\"\n",
    "\n",
    "input_doc = \"\"\"\n",
    "Dear Loan Department Manager,\n",
    "My name is Zhang Xiaoming, currently residing at Guangfu South Road, Xinyi District, Taipei City. I am hereby submitting a loan application to your esteemed bank. The purpose of this letter is to request a loan to support my personal financial needs. I plan to use the loan funds for home renovation to enhance the comfort of my residence.\n",
    "As a loan applicant, I am willing to comply with all the terms and conditions set by your bank. I understand that the loan application may require the submission of additional documentation, and I am ready to cooperate and complete these procedures. Below is a summary of my personal profile and financial status:\n",
    "Personal Profile: I am an IT professional with over five years of experience working at a renowned technology company. I have a good credit record and repayment capability.\n",
    "Income Situation: My primary source of income is my monthly salary, which provides a stable income sufficient to support the repayment plan.\n",
    "Financial Status: My financial status is stable, and I have several years of financial records that can demonstrate my repayment ability.\n",
    "I sincerely hope that your bank will approve my loan application, allowing me to achieve the aforementioned financial goals. I am willing to provide further information or documents at any time to assist in the review of my application.\n",
    "\n",
    "Sincerely,\n",
    "Zhang Xiaoming  \n",
    "July 2, 2024\n",
    "\"\"\""
   ]
  },
  {
   "cell_type": "code",
   "execution_count": 30,
   "metadata": {},
   "outputs": [],
   "source": [
    "# initialize the conversation history\n",
    "conversation_history = [\n",
    "    {\"role\": \"system\", \"content\": input_system},  # system prompt\n",
    "    {\"role\": \"user\", \"content\": input_text},\n",
    "    {\"role\": \"user\", \"content\": \"<document>\"+input_doc+\"</document>\"} # first input doc that generated from OCR\n",
    "]"
   ]
  },
  {
   "cell_type": "code",
   "execution_count": 31,
   "metadata": {},
   "outputs": [
    {
     "name": "stdout",
     "output_type": "stream",
     "text": [
      "- Name: Zhang Xiaoming\n",
      "- Address: Guangfu South Road, Xinyi District, Taipei City\n",
      "- Occupation: IT professional\n",
      "- Income or Wage: Monthly salary\n"
     ]
    }
   ],
   "source": [
    "response_from_gpt = chat_with_gpt(conversation_history)\n",
    "print(response_from_gpt)"
   ]
  },
  {
   "cell_type": "markdown",
   "metadata": {},
   "source": [
    "### Multi-turn dialogue with ChatGPT"
   ]
  },
  {
   "cell_type": "code",
   "execution_count": 32,
   "metadata": {},
   "outputs": [
    {
     "name": "stdout",
     "output_type": "stream",
     "text": [
      "============================\n",
      "Turn 1:\n",
      "User input: only name and the address are needed\n",
      "- Name: Zhang Xiaoming\n",
      "- Address: Guangfu South Road, Xinyi District, Taipei City\n",
      "============================\n",
      "Goodbye :)\n"
     ]
    }
   ],
   "source": [
    "# number of turns\n",
    "i = 0\n",
    "\n",
    "# main conversation\n",
    "while True:\n",
    "\n",
    "    # get user input\n",
    "    user_input = input(\"You: \") # TBD with backend\n",
    "    \n",
    "    # check if the user wants to exit\n",
    "    if user_input.lower() in ['exit', 'quit', 'bye', 'ok', 'thanks', 'nice']: # TBD with backend\n",
    "        print(\"============================\")\n",
    "        print(\"Goodbye :)\")\n",
    "        break\n",
    "    \n",
    "\n",
    "    # customize user input to eventual prompts\n",
    "    # ======================================= #\n",
    "    #             customize here              #\n",
    "    # ======================================= #\n",
    "\n",
    "\n",
    "    # add user input prompts to conversation history\n",
    "    conversation_history.append({\"role\": \"user\", \"content\": user_input})\n",
    "    \n",
    "    # get response from ChatGPT\n",
    "    response_from_gpt = chat_with_gpt(conversation_history)\n",
    "    i += 1\n",
    "    \n",
    "    # add ChatGPT response to conversation history\n",
    "    conversation_history.append({\"role\": \"assistant\", \"content\": response_from_gpt}) # role is assistant\n",
    "    \n",
    "    # print the response\n",
    "    print(\"============================\")\n",
    "    print(f\"Turn {i}:\")\n",
    "    print(\"User input:\", user_input)\n",
    "    print(response_from_gpt) # .split('\\n')"
   ]
  },
  {
   "cell_type": "markdown",
   "metadata": {},
   "source": [
    "## Post processing\n",
    "mapping the value & bounding box"
   ]
  },
  {
   "cell_type": "markdown",
   "metadata": {},
   "source": [
    "## Output\n",
    "- `conversion_type`: [\"first\", \"continued\"]\n",
    "- output mask bbox"
   ]
  },
  {
   "cell_type": "code",
   "execution_count": 10,
   "metadata": {},
   "outputs": [],
   "source": [
    "# # sample\n",
    "# response = [\n",
    "#     {\n",
    "#         \"conversion_type\": \"first\" # or \"continued\"\n",
    "#     },\n",
    "#     {\n",
    "#         {\n",
    "            \n",
    "#             \"page\": 1,\n",
    "#             \"masks\": [\n",
    "#                 {\"top_left\": [1, 2], \"bottom_right\": [3, 4]},\n",
    "#                 {\"top_left\": [1, 2], \"bottom_right\": [3, 4]},\n",
    "#             ],\n",
    "#         },\n",
    "#         {\n",
    "#             \"page\": 1,\n",
    "#             \"masks\": [\n",
    "#                 {\"top_left\": [1, 2], \"bottom_right\": [3, 4]},\n",
    "#                 {\"top_left\": [1, 2], \"bottom_right\": [3, 4]},\n",
    "#             ],\n",
    "#         },\n",
    "#         {\n",
    "#             \"page\": 1,\n",
    "#             \"masks\": [\n",
    "#                 {\"top_left\": [1, 2], \"bottom_right\": [3, 4]},\n",
    "#                 {\"top_left\": [1, 2], \"bottom_right\": [3, 4]},\n",
    "#             ],\n",
    "#         }\n",
    "#     }\n",
    "# ]"
   ]
  }
 ],
 "metadata": {
  "kernelspec": {
   "display_name": "Python 3.8.19 ('capstone')",
   "language": "python",
   "name": "python3"
  },
  "language_info": {
   "codemirror_mode": {
    "name": "ipython",
    "version": 3
   },
   "file_extension": ".py",
   "mimetype": "text/x-python",
   "name": "python",
   "nbconvert_exporter": "python",
   "pygments_lexer": "ipython3",
   "version": "3.8.19"
  },
  "orig_nbformat": 4,
  "vscode": {
   "interpreter": {
    "hash": "b47c837c46631dbf0808a2d963b50661f48a03ae6736ef73c7d5bc820170b1b6"
   }
  }
 },
 "nbformat": 4,
 "nbformat_minor": 2
}
