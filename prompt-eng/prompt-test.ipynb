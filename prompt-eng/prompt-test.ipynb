{
 "cells": [
  {
   "cell_type": "markdown",
   "metadata": {},
   "source": [
    "## Input"
   ]
  },
  {
   "cell_type": "code",
   "execution_count": null,
   "metadata": {},
   "outputs": [],
   "source": [
    "# input sample\n",
    "# first converation\n",
    "{\n",
    "    \"conversion_type\": \"first\",\n",
    "    \"ocr_json\": {\n",
    "            \"ocr_result\": [],\n",
    "            \"img_string\": \"THE ROBERT\",\n",
    "            \"img_structure\": []\n",
    "    },\n",
    "    \"user_input\":{},\n",
    "    \"conversation_history\":[]\n",
    "}\n",
    "\n",
    "# continued converation\n",
    "{\n",
    "    \"conversion_type\": \"continued\",\n",
    "    \"ocr_json\": {},\n",
    "    \"user_input\":{\n",
    "        \"XXXXXXXX\"\n",
    "    },\n",
    "    \"conversation_history\": [\n",
    "        {\"role\": \"system\", \"content\": input_system},  # system prompt\n",
    "        {\"role\": \"user\", \"content\": input_text},\n",
    "        {\"role\": \"user\", \"content\": input_doc} # first input doc that generated from OCR\n",
    "    ]\n",
    "}"
   ]
  },
  {
   "cell_type": "markdown",
   "metadata": {},
   "source": [
    "## Chat with ChatGPT"
   ]
  },
  {
   "cell_type": "code",
   "execution_count": 2,
   "metadata": {},
   "outputs": [],
   "source": [
    "from openai import OpenAI\n",
    "from dotenv import load_dotenv\n",
    "import os\n",
    "\n",
    "load_dotenv() # load API key\n",
    "\n",
    "client = OpenAI(\n",
    "  api_key=os.environ.get(\"OPENAI_API_KEY\"),\n",
    ")"
   ]
  },
  {
   "cell_type": "code",
   "execution_count": 3,
   "metadata": {},
   "outputs": [],
   "source": [
    "def chat_with_gpt(messages):\n",
    "    completion = client.chat.completions.create(\n",
    "        model=\"gpt-4\",  # or \"gpt-3.5-turbo\"\n",
    "        messages=messages\n",
    "    )\n",
    "    return completion.choices[0].message.content"
   ]
  },
  {
   "cell_type": "markdown",
   "metadata": {},
   "source": [
    "### The very first conversation with ChatGPT\n",
    "- input: document output from OCR"
   ]
  },
  {
   "cell_type": "markdown",
   "metadata": {},
   "source": [
    "### json input for testing"
   ]
  },
  {
   "cell_type": "code",
   "execution_count": 4,
   "metadata": {},
   "outputs": [],
   "source": [
    "import json\n",
    "\n",
    "f = open('sample.json')\n",
    "data = json.load(f)\n",
    "f.close()"
   ]
  },
  {
   "cell_type": "code",
   "execution_count": 5,
   "metadata": {},
   "outputs": [
    {
     "data": {
      "text/plain": [
       "'<document>THE ROBERT A.WELCH FOUNDATION\\n2010 Bank of the Southwest Building\\nHoustonTexas77002\\nBUDGET REQUEST SUMMARY\\nTEAR (AS APPLICASLE)\\nMay 1,1966 May 19 May I,19 Total\\nthrough through\\nA.30.19 Apr3019\\n1.Personnel $11228.00 $ $11.228.00\\n2.Permanent Scientific Equipment 0 $\\n3.Expendable Scientific Items & Services 840.00 840.00\\n4.Other Expense  975.00. $ 975.00\\n5.TOTAL. Exclusive of Overhead 13.043.00 $13.043.00\\n6.Overhead 1.957.00 195.7.00\\n7.TOTALAMOUNT of Proposed Budget  $15,000.00 $15.000.00.\\nName(s) of Principal Investigators) -John E.Kilpat rick\\nInstiution Willian Marsh Rice University\\nTHE SPACE BELOW IS FOR USE BY THE FOUNDATION\\nGrant Period 19 to 19 Grant No\\nDate\\nApproved Not Approved\\nDirector of Kesearch\\nScientific Advisory Board\\nBoard of Trustees\\nGrantee and Institution Notified\\nRemarks:\\nSource:https://www.industrydocuments.ucsf.edu/docs/zxfk0226\\n</document>'"
      ]
     },
     "execution_count": 5,
     "metadata": {},
     "output_type": "execute_result"
    }
   ],
   "source": [
    "input_doc = '<document>'+data['img_string']+'</document>'\n",
    "input_doc\n",
    "\n",
    "# list\n",
    "# input_docs = []\n",
    "# for page in data['pages']:\n",
    "#     input_docs.append(\"<doc>\"+page['img_string']+\"</doc>\")\n",
    "\n",
    "# string\n",
    "# input_docs = \"\"\n",
    "# for page in data['pages']:\n",
    "#     input_docs += \"<doc>\"+page['img_string']+\"</doc>\"\n",
    "\n",
    "# input_docs"
   ]
  },
  {
   "cell_type": "markdown",
   "metadata": {},
   "source": [
    "### system config"
   ]
  },
  {
   "cell_type": "code",
   "execution_count": 6,
   "metadata": {},
   "outputs": [],
   "source": [
    "input_system = \"\"\"You are now a strict sensitive information protection officer. You must protect customer privacy and ensure that sensitive information in documents is not leaked. Here are some categories of personal data: Name, Phone Number, ID Number, Social Security Number (SSN), Email Address, Address, Date of Birth, Gender, Nationality, Passport Number, Bank Account Number, Driver's License Number, Occupation, Health Information, Marital Status, Income or Wage. These types of data (including but not limited to) are usually considered sensitive and need to be properly protected to prevent unauthorized access and use.\"\"\"\n",
    "\n",
    "positive_examples = \"\"\"For example, here is a sample document that contains sensitive information:\n",
    "\n",
    "<document>Dear Loan Department Manager, My name is Zhang Xiaoming, currently residing at Guangfu South Road, Xinyi District, Taipei City. I am hereby submitting a loan application to your esteemed bank. The purpose of this letter is to request a loan to support my personal financial needs. I plan to use the loan funds for home renovation to enhance the comfort of my residence. As a loan applicant, I am willing to comply with all the terms and conditions set by your bank. I understand that the loan application may require the submission of additional documentation, and I am ready to cooperate and complete these procedures. Below is a summary of my personal profile and financial status: Personal Profile: I am an IT professional with over five years of experience working at a renowned technology company. I have a good credit record and repayment capability. Income Situation: My primary source of income is my monthly salary, which provides a stable income sufficient to support the repayment plan. Financial Status: My financial status is stable, and I have several years of financial records that can demonstrate my repayment ability. I sincerely hope that your bank will approve my loan application, allowing me to achieve the aforementioned financial goals. I am willing to provide further information or documents at any time to assist in the review of my application. Sincerely, Zhang Xiaoming July 2, 2024</document>\n",
    "\n",
    "You need to list out the sensitive information like this:\n",
    "\"- Name: Zhang Xiaoming\n",
    "- Address: Guangfu South Road, Xinyi District, Taipei City\"\n",
    "No explanation is needed.\n",
    "\"\"\"\n",
    "\n",
    "input_text = \"\"\"Here is a document. Identify the text containing sensitive information and list it with bullet points, like this: \"-Name: Amy, -SSN: 123456789.\" No explanation needed:\"\"\"\n",
    "\n",
    "# input_doc = \"\"\"\n",
    "# Dear Loan Department Manager,\n",
    "# My name is Zhang Xiaoming, currently residing at Guangfu South Road, Xinyi District, Taipei City. I am hereby submitting a loan application to your esteemed bank. The purpose of this letter is to request a loan to support my personal financial needs. I plan to use the loan funds for home renovation to enhance the comfort of my residence.\n",
    "# As a loan applicant, I am willing to comply with all the terms and conditions set by your bank. I understand that the loan application may require the submission of additional documentation, and I am ready to cooperate and complete these procedures. Below is a summary of my personal profile and financial status:\n",
    "# Personal Profile: I am an IT professional with over five years of experience working at a renowned technology company. I have a good credit record and repayment capability.\n",
    "# Income Situation: My primary source of income is my monthly salary, which provides a stable income sufficient to support the repayment plan.\n",
    "# Financial Status: My financial status is stable, and I have several years of financial records that can demonstrate my repayment ability.\n",
    "# I sincerely hope that your bank will approve my loan application, allowing me to achieve the aforementioned financial goals. I am willing to provide further information or documents at any time to assist in the review of my application.\n",
    "\n",
    "# Sincerely,\n",
    "# Zhang Xiaoming  \n",
    "# July 2, 2024\n",
    "# \"\"\""
   ]
  },
  {
   "cell_type": "code",
   "execution_count": 7,
   "metadata": {},
   "outputs": [],
   "source": [
    "# initialize the conversation history\n",
    "conversation_history = [\n",
    "    {\"role\": \"system\", \"content\": input_system},  # system prompt\n",
    "    {\"role\": \"user\", \"content\": input_text},\n",
    "    {\"role\": \"user\", \"content\": input_doc} # first input doc that generated from OCR\n",
    "]"
   ]
  },
  {
   "cell_type": "code",
   "execution_count": 8,
   "metadata": {},
   "outputs": [
    {
     "name": "stdout",
     "output_type": "stream",
     "text": [
      "-Name: John E.Kilpat rick\n",
      "-Institution: Willian Marsh Rice University\n"
     ]
    }
   ],
   "source": [
    "response_from_gpt = chat_with_gpt(conversation_history)\n",
    "print(response_from_gpt)"
   ]
  },
  {
   "cell_type": "markdown",
   "metadata": {},
   "source": [
    "### Multi-turn dialogue with ChatGPT"
   ]
  },
  {
   "cell_type": "code",
   "execution_count": 9,
   "metadata": {},
   "outputs": [
    {
     "name": "stdout",
     "output_type": "stream",
     "text": [
      "============================\n",
      "Turn 1:\n",
      "User input: university is not important\n",
      "-Name of Principal Investigator: John E.Kilpat rick\n",
      "-Institution: Willian Marsh Rice University\n",
      "============================\n",
      "Turn 2:\n",
      "User input: remove institution\n",
      "-Name of Principal Investigator: John E.Kilpat rick\n",
      "============================\n",
      "Goodbye :)\n"
     ]
    }
   ],
   "source": [
    "# number of turns\n",
    "i = 0\n",
    "\n",
    "# main conversation\n",
    "while True:\n",
    "\n",
    "    # get user input\n",
    "    user_input = input(\"You: \") # TBD with backend\n",
    "    \n",
    "    # check if the user wants to exit\n",
    "    if user_input.lower() in ['exit', 'quit', 'bye', 'ok', 'thanks', 'nice']: # TBD with backend\n",
    "        print(\"============================\")\n",
    "        print(\"Goodbye :)\")\n",
    "        break\n",
    "    \n",
    "\n",
    "    # customize user input to eventual prompts\n",
    "    # ======================================= #\n",
    "    #             customize here              #\n",
    "    # ======================================= #\n",
    "\n",
    "\n",
    "    # add user input prompts to conversation history\n",
    "    conversation_history.append({\"role\": \"user\", \"content\": user_input})\n",
    "    \n",
    "    # get response from ChatGPT\n",
    "    response_from_gpt = chat_with_gpt(conversation_history)\n",
    "    i += 1\n",
    "    \n",
    "    # add ChatGPT response to conversation history\n",
    "    conversation_history.append({\"role\": \"assistant\", \"content\": response_from_gpt}) # role is assistant\n",
    "    \n",
    "    # print the response\n",
    "    print(\"============================\")\n",
    "    print(f\"Turn {i}:\")\n",
    "    print(\"User input:\", user_input)\n",
    "    print(response_from_gpt) # .split('\\n')"
   ]
  },
  {
   "cell_type": "markdown",
   "metadata": {},
   "source": [
    "## Post processing\n",
    "mapping the value & bounding box"
   ]
  },
  {
   "cell_type": "code",
   "execution_count": 10,
   "metadata": {},
   "outputs": [
    {
     "name": "stdout",
     "output_type": "stream",
     "text": [
      "John E.Kilpat rick\n",
      "[152.0, 1010.0] [949.0, 1052.0]\n"
     ]
    }
   ],
   "source": [
    "for i in response_from_gpt.split('\\n'):\n",
    "\n",
    "    words = i.split('- ')[-1].split(': ')[-1]\n",
    "    print(words)\n",
    "\n",
    "    for i in range(len(data['ocr_result'])):\n",
    "        if words in data['ocr_result'][i]['text']:\n",
    "            # print(data['ocr_result'][i]['bbox'])\n",
    "            print(data['ocr_result'][i]['bbox'][:2], data['ocr_result'][i]['bbox'][2:] )\n",
    "\n",
    "    # for i in range(len(data['img_structure'])):\n",
    "    #     if words in data['img_structure'][i]['text']:\n",
    "    #         print(data['img_structure'][i]['text_region'])"
   ]
  },
  {
   "cell_type": "markdown",
   "metadata": {},
   "source": [
    "## Output\n",
    "- `conversion_type`: [\"first\", \"continued\"]\n",
    "- output mask bbox"
   ]
  },
  {
   "cell_type": "code",
   "execution_count": 10,
   "metadata": {},
   "outputs": [],
   "source": [
    "# output sample\n",
    "response = [\n",
    "    {\n",
    "        \"conversion_type\": \"first\", # or \"continued\",\n",
    "        \"conversation_history\": {\n",
    "            {\"role\": \"system\", \"content\": input_system},  # system prompt\n",
    "            {\"role\": \"user\", \"content\": input_text},\n",
    "            {\"role\": \"user\", \"content\": input_doc}, # first input doc that generated from OCR\n",
    "            {\"role\": \"user\", \"content\": user_input}, # first user input\n",
    "            {\"role\": \"assistant\", \"content\": response_from_gpt}, # gpt output\n",
    "            {\"role\": \"user\", \"content\": user_input}, # second user input\n",
    "            {\"role\": \"assistant\", \"content\": response_from_gpt},\n",
    "            {\"role\": \"user\", \"content\": user_input}, # third user input\n",
    "            {\"role\": \"assistant\", \"content\": response_from_gpt}\n",
    "        },\n",
    "        \"masks\": [\n",
    "                {\"top_left\": [152.0, 1010.0], \"bottom_right\": [1052.0, 1052.0]},\n",
    "                {\"top_left\": [147.0, 1137.0], \"bottom_right\": [1187.0, 1187.0]}\n",
    "            ]\n",
    "    }\n",
    "]"
   ]
  }
 ],
 "metadata": {
  "kernelspec": {
   "display_name": "Python 3.8.19 ('capstone')",
   "language": "python",
   "name": "python3"
  },
  "language_info": {
   "codemirror_mode": {
    "name": "ipython",
    "version": 3
   },
   "file_extension": ".py",
   "mimetype": "text/x-python",
   "name": "python",
   "nbconvert_exporter": "python",
   "pygments_lexer": "ipython3",
   "version": "3.8.19"
  },
  "orig_nbformat": 4,
  "vscode": {
   "interpreter": {
    "hash": "b47c837c46631dbf0808a2d963b50661f48a03ae6736ef73c7d5bc820170b1b6"
   }
  }
 },
 "nbformat": 4,
 "nbformat_minor": 2
}
